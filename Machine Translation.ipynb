{
 "cells": [
  {
   "cell_type": "code",
   "execution_count": 1,
   "id": "9590096b-77e9-4f1e-ba93-874e043953e6",
   "metadata": {},
   "outputs": [],
   "source": [
    "import torch \n",
    "import torch.nn as nn\n",
    "import nltk\n",
    "import numpy as np\n",
    "import re\n",
    "from sklearn.feature_extraction.text import CountVectorizer\n",
    "from transformers import BertTokenizer, BertModel\n",
    "from tqdm import tqdm"
   ]
  },
  {
   "cell_type": "code",
   "execution_count": 2,
   "id": "dc59c072-01c4-4848-823c-4e8fb1b39b11",
   "metadata": {},
   "outputs": [],
   "source": [
    "import pandas as pd\n",
    "\n",
    "data = pd.read_table('fra.txt', header= None)"
   ]
  },
  {
   "cell_type": "code",
   "execution_count": 3,
   "id": "ad6f2ab3-655e-456d-a96e-e1fd3cb05b54",
   "metadata": {},
   "outputs": [],
   "source": [
    "data.rename(columns= {0: 'English', 1: 'French', 2: 'Citation'}, inplace= True)"
   ]
  },
  {
   "cell_type": "code",
   "execution_count": 4,
   "id": "a157aba8-9988-4afe-bb17-349d365b3286",
   "metadata": {},
   "outputs": [],
   "source": [
    "pattern = r\"[!'#$%&()*+,-./:;<=>?@[\\]^`{|}~“”‘’«»‹›„‚–—…·•¡¿’\\\"\\']\"\n",
    "\n",
    "eng_sent, french_sent = [], []\n",
    "\n",
    "for e in range(len(data['English'])):\n",
    "    eng_sent.append(re.sub(pattern, \"\", data['English'][e]))\n",
    "    french_sent.append(re.sub(pattern, \"\", data['French'][e]))"
   ]
  },
  {
   "cell_type": "code",
   "execution_count": 5,
   "id": "fa56c84c",
   "metadata": {},
   "outputs": [
    {
     "name": "stdout",
     "output_type": "stream",
     "text": [
      "229803\n",
      "229803\n"
     ]
    }
   ],
   "source": [
    "print(len(eng_sent))\n",
    "print(len(french_sent))"
   ]
  },
  {
   "cell_type": "code",
   "execution_count": 6,
   "metadata": {},
   "outputs": [],
   "source": [
    "tokenizer = BertTokenizer.from_pretrained('bert-base-uncased')"
   ]
  },
  {
   "cell_type": "code",
   "execution_count": 7,
   "id": "a724a3a3",
   "metadata": {},
   "outputs": [],
   "source": [
    "eng_token = [tokenizer.encode(text, add_special_tokens= True) for text in eng_sent]\n",
    "fren_token = [tokenizer.encode(text, add_special_tokens= True) for text in french_sent]"
   ]
  },
  {
   "cell_type": "code",
   "execution_count": 8,
   "id": "be72bb30",
   "metadata": {},
   "outputs": [],
   "source": [
    "model = BertModel.from_pretrained('bert-base-uncased')\n"
   ]
  },
  {
   "cell_type": "code",
   "execution_count": 9,
   "id": "49ff137b",
   "metadata": {},
   "outputs": [],
   "source": [
    "max_len = 61\n",
    "\n",
    "def text_embedding(batch_tokens):\n",
    "    batch_padded_tokens = [tokens + [tokenizer.pad_token_id \n",
    "                                 for i in range(max_len - len(tokens))]\n",
    "                      for tokens in batch_tokens]\n",
    "    tokens_tensor = torch.tensor(batch_padded_tokens)\n",
    "    with torch.no_grad():\n",
    "        output = model(tokens_tensor)\n",
    "        embeddings = output.last_hidden_state\n",
    "    return embeddings"
   ]
  },
  {
   "cell_type": "code",
   "execution_count": 10,
   "id": "ad72facc",
   "metadata": {},
   "outputs": [
    {
     "name": "stderr",
     "output_type": "stream",
     "text": [
      "Embedding:   0%|\u001b[32m          \u001b[0m| 0/23 [00:00<?, ?it/s]We strongly recommend passing in an `attention_mask` since your input_ids may be padded. See https://huggingface.co/docs/transformers/troubleshooting#incorrect-output-when-padding-tokens-arent-masked.\n",
      "Embedding:  61%|\u001b[32m██████    \u001b[0m| 14/23 [1:32:38<1:04:20, 428.95s/it]"
     ]
    },
    {
     "ename": "",
     "evalue": "",
     "output_type": "error",
     "traceback": [
      "\u001b[1;31mThe Kernel crashed while executing code in the the current cell or a previous cell. Please review the code in the cell(s) to identify a possible cause of the failure. Click <a href='https://aka.ms/vscodeJupyterKernelCrash'>here</a> for more info. View Jupyter <a href='command:jupyter.viewOutput'>log</a> for further details."
     ]
    }
   ],
   "source": [
    "batch_size = 10000\n",
    "\n",
    "eng_embedding = []\n",
    "for i in tqdm(range(0, len(eng_token), batch_size), \"Embedding\", colour= \"green\"):\n",
    "    batch_token = eng_token[i : i+batch_size]\n",
    "    eng_embedding.extend(text_embedding(batch_token))\n",
    "\n",
    "len(eng_embedding)"
   ]
  },
  {
   "cell_type": "code",
   "execution_count": null,
   "id": "f396f5b8",
   "metadata": {},
   "outputs": [],
   "source": [
    "for batch in eng_embedding:\n",
    "    print(batch.shape)"
   ]
  },
  {
   "cell_type": "code",
   "execution_count": null,
   "id": "cdfb5c12",
   "metadata": {},
   "outputs": [],
   "source": [
    "fren_embedding = []\n",
    "for i in tqdm(range(0, len(fren_token), batch_size), \"Embedding\", colour= \"green\"):\n",
    "    batch_token = fren_token[i : i+batch_size]\n",
    "    batch_embedding = [text_embedding(token) for token in batch_token]\n",
    "    fren_embedding.extend(batch_embedding)\n",
    "\n",
    "len(fren_embedding)"
   ]
  },
  {
   "cell_type": "code",
   "execution_count": null,
   "id": "646a76f3",
   "metadata": {},
   "outputs": [],
   "source": [
    "sum = 0\n",
    "for row in eng_embedding:\n",
    "    sum += 1\n",
    "\n",
    "print(sum)"
   ]
  },
  {
   "cell_type": "code",
   "execution_count": null,
   "id": "6029bbaa",
   "metadata": {},
   "outputs": [],
   "source": [
    "\n",
    "for i in tqdm(range(0, len(fren_embedding), batch_size), \"Saving\"):\n",
    "    tensors = [\"French_Embedding_{}.pt\".format(i) for i in range(i, i + batch_size) if i < len(fren_embedding)]\n",
    "    print(tensors)\n",
    "    #torch.save(fren_embedding[i], file_name)"
   ]
  },
  {
   "cell_type": "markdown",
   "id": "0a85ca07",
   "metadata": {},
   "source": []
  },
  {
   "cell_type": "markdown",
   "id": "bc36cdd1",
   "metadata": {},
   "source": [
    "for i in tqdm(range(len(eng_embedding)), \"Saving\"):\n",
    "    file_name = \"English_embedding_\" + str(i) + \".pt\"\n",
    "    torch.save(eng_embedding[i], file_name)"
   ]
  }
 ],
 "metadata": {
  "kernelspec": {
   "display_name": "Python 3 (ipykernel)",
   "language": "python",
   "name": "python3"
  },
  "language_info": {
   "codemirror_mode": {
    "name": "ipython",
    "version": 3
   },
   "file_extension": ".py",
   "mimetype": "text/x-python",
   "name": "python",
   "nbconvert_exporter": "python",
   "pygments_lexer": "ipython3",
   "version": "3.10.13"
  }
 },
 "nbformat": 4,
 "nbformat_minor": 5
}
