{
 "cells": [
  {
   "cell_type": "code",
   "execution_count": 55,
   "id": "9590096b-77e9-4f1e-ba93-874e043953e6",
   "metadata": {},
   "outputs": [
    {
     "name": "stderr",
     "output_type": "stream",
     "text": [
      "UsageError: Line magic function `%inline` not found.\n"
     ]
    }
   ],
   "source": [
    "import torch \n",
    "import numpy as np\n",
    "import re\n",
    "from sklearn.feature_extraction.text import CountVectorizer\n",
    "from transformers import BertTokenizer, BertModel, AutoTokenizer, AutoModel\n",
    "from tqdm import tqdm\n",
    "import pandas as pd\n",
    "import matplotlib.pyplot as plt\n",
    "import CustomTransformer as ct\n",
    "%inline matplotlib\n"
   ]
  },
  {
   "cell_type": "code",
   "execution_count": 5,
   "id": "08146ac8",
   "metadata": {},
   "outputs": [],
   "source": [
    "device = 'cuda' if torch.cuda.is_available() else 'cpu'"
   ]
  },
  {
   "cell_type": "code",
   "execution_count": 6,
   "id": "dc59c072-01c4-4848-823c-4e8fb1b39b11",
   "metadata": {},
   "outputs": [],
   "source": [
    "\n",
    "data = pd.read_table('fra.txt', header= None)"
   ]
  },
  {
   "cell_type": "code",
   "execution_count": 7,
   "id": "ad6f2ab3-655e-456d-a96e-e1fd3cb05b54",
   "metadata": {},
   "outputs": [],
   "source": [
    "data.rename(columns= {0: 'English', 1: 'French', 2: 'Citation'}, inplace= True)"
   ]
  },
  {
   "cell_type": "code",
   "execution_count": 8,
   "id": "a157aba8-9988-4afe-bb17-349d365b3286",
   "metadata": {},
   "outputs": [],
   "source": [
    "pattern = r\"[!'#$%&()*+,-./:;<=>?@[\\]^`{|}~“”‘’«»‹›„‚–—…·•¡¿’\\\"\\']\"\n",
    "\n",
    "eng_sent, french_sent = [], []\n",
    "\n",
    "for e in range(len(data['English'])):\n",
    "    eng_sent.append(re.sub(pattern, \"\", data['English'][e]))\n",
    "    french_sent.append(re.sub(pattern, \"\", data['French'][e]))"
   ]
  },
  {
   "cell_type": "code",
   "execution_count": 9,
   "id": "fa56c84c",
   "metadata": {},
   "outputs": [
    {
     "name": "stdout",
     "output_type": "stream",
     "text": [
      "229803\n",
      "229803\n"
     ]
    }
   ],
   "source": [
    "print(len(eng_sent))\n",
    "print(len(french_sent))"
   ]
  },
  {
   "cell_type": "code",
   "execution_count": 10,
   "metadata": {},
   "outputs": [],
   "source": [
    "tokenizer = BertTokenizer.from_pretrained('bert-base-uncased')\n",
    "bert_small_tokenizer = AutoTokenizer.from_pretrained(\"nlpaueb/legal-bert-small-uncased\")"
   ]
  },
  {
   "cell_type": "code",
   "execution_count": 11,
   "id": "a724a3a3",
   "metadata": {},
   "outputs": [],
   "source": [
    "eng_token = [tokenizer.encode(text, add_special_tokens= True) for text in eng_sent]\n",
    "fren_token = [tokenizer.encode(text, add_special_tokens= True) for text in french_sent]"
   ]
  },
  {
   "cell_type": "code",
   "execution_count": 12,
   "id": "4dd0961c",
   "metadata": {},
   "outputs": [],
   "source": [
    "model = BertModel.from_pretrained('bert-base-uncased')"
   ]
  },
  {
   "cell_type": "code",
   "execution_count": 13,
   "id": "d7daa53f",
   "metadata": {},
   "outputs": [],
   "source": [
    "def padding(tokens, max_len):\n",
    "    temp = []\n",
    "    for token in tokens:\n",
    "        if max_len > len(token):\n",
    "            temp.append(token + [tokenizer.pad_token_id \n",
    "                                 for i in range(max_len - len(token))])\n",
    "        else:\n",
    "            temp.append(token[:max_len])\n",
    "\n",
    "    return temp"
   ]
  },
  {
   "cell_type": "code",
   "execution_count": 14,
   "id": "49ff137b",
   "metadata": {},
   "outputs": [],
   "source": [
    "def text_embedding(batch_tokens, max_len):\n",
    "    batch_padded_tokens = padding(batch_tokens, max_len)\n",
    "    tokens_tensor = torch.tensor(batch_padded_tokens).to(device)\n",
    "    with torch.no_grad():\n",
    "        output = model(tokens_tensor)\n",
    "        embeddings = output.last_hidden_state\n",
    "    return embeddings"
   ]
  },
  {
   "cell_type": "code",
   "execution_count": 15,
   "id": "141c9f78",
   "metadata": {},
   "outputs": [
    {
     "name": "stdout",
     "output_type": "stream",
     "text": [
      "Average len: 8\n"
     ]
    },
    {
     "data": {
      "text/plain": [
       "{'whiskers': [<matplotlib.lines.Line2D at 0x2b97ed3c0>,\n",
       "  <matplotlib.lines.Line2D at 0x2b97ed660>],\n",
       " 'caps': [<matplotlib.lines.Line2D at 0x2b97ed900>,\n",
       "  <matplotlib.lines.Line2D at 0x2b97edba0>],\n",
       " 'boxes': [<matplotlib.lines.Line2D at 0x2b97ed120>],\n",
       " 'medians': [<matplotlib.lines.Line2D at 0x2b97ede40>],\n",
       " 'fliers': [<matplotlib.lines.Line2D at 0x2b97ee380>],\n",
       " 'means': [<matplotlib.lines.Line2D at 0x2b97ee0e0>]}"
      ]
     },
     "execution_count": 15,
     "metadata": {},
     "output_type": "execute_result"
    },
    {
     "data": {
      "image/png": "[encoded data removed]",
      "text/plain": [
       "<Figure size 640x480 with 1 Axes>"
      ]
     },
     "metadata": {},
     "output_type": "display_data"
    }
   ],
   "source": [
    "eng_sum = 0\n",
    "eng_token_len = []\n",
    "for tokens in eng_token:\n",
    "    eng_sum += len(tokens)\n",
    "    eng_token_len.append(len(tokens))\n",
    "\n",
    "eng_avg_len = eng_sum // len(eng_token)\n",
    "print(\"Average len: {}\".format(eng_avg_len))\n",
    "plt.boxplot(eng_token_len, meanline= True, showmeans= True)"
   ]
  },
  {
   "cell_type": "code",
   "execution_count": 16,
   "id": "aac102ab",
   "metadata": {},
   "outputs": [
    {
     "name": "stdout",
     "output_type": "stream",
     "text": [
      "Average len: 12\n"
     ]
    },
    {
     "data": {
      "text/plain": [
       "{'whiskers': [<matplotlib.lines.Line2D at 0x2c3b558a0>,\n",
       "  <matplotlib.lines.Line2D at 0x2c3b545b0>],\n",
       " 'caps': [<matplotlib.lines.Line2D at 0x2c3b55cc0>,\n",
       "  <matplotlib.lines.Line2D at 0x2c3b55f60>],\n",
       " 'boxes': [<matplotlib.lines.Line2D at 0x2c3b55600>],\n",
       " 'medians': [<matplotlib.lines.Line2D at 0x2c3b56200>],\n",
       " 'fliers': [<matplotlib.lines.Line2D at 0x2c3b56740>],\n",
       " 'means': [<matplotlib.lines.Line2D at 0x2c3b564a0>]}"
      ]
     },
     "execution_count": 16,
     "metadata": {},
     "output_type": "execute_result"
    },
    {
     "data": {
      "image/png": "[encoded data removed]",
      "text/plain": [
       "<Figure size 640x480 with 1 Axes>"
      ]
     },
     "metadata": {},
     "output_type": "display_data"
    }
   ],
   "source": [
    "fren_sum = 0\n",
    "fren_token_len = []\n",
    "for tokens in fren_token:\n",
    "    fren_sum += len(tokens)\n",
    "    fren_token_len.append(len(tokens))\n",
    "\n",
    "fren_avg_len = fren_sum // len(fren_token)\n",
    "\n",
    "print(\"Average len: {}\".format(fren_avg_len))\n",
    "plt.boxplot(fren_token_len, meanline= True, showmeans= True)"
   ]
  },
  {
   "cell_type": "code",
   "execution_count": 17,
   "id": "ad72facc",
   "metadata": {},
   "outputs": [
    {
     "name": "stderr",
     "output_type": "stream",
     "text": [
      "Embedding:   0%|\u001b[32m          \u001b[0m| 0/230 [00:00<?, ?it/s]We strongly recommend passing in an `attention_mask` since your input_ids may be padded. See https://huggingface.co/docs/transformers/troubleshooting#incorrect-output-when-padding-tokens-arent-masked.\n",
      "Embedding: 100%|\u001b[32m██████████\u001b[0m| 230/230 [12:03<00:00,  3.14s/it]\n"
     ]
    },
    {
     "data": {
      "text/plain": [
       "229803"
      ]
     },
     "execution_count": 17,
     "metadata": {},
     "output_type": "execute_result"
    }
   ],
   "source": [
    "batch_size = 1000\n",
    "\n",
    "eng_embedding = []\n",
    "for i in tqdm(range(0, len(eng_token), batch_size), \"Embedding\", colour= \"green\"):\n",
    "    batch_token = eng_token[i : i+batch_size]\n",
    "    eng_embedding.extend(text_embedding(batch_token, eng_avg_len))\n",
    "\n",
    "len(eng_embedding)"
   ]
  },
  {
   "cell_type": "code",
   "execution_count": 18,
   "id": "cdfb5c12",
   "metadata": {},
   "outputs": [
    {
     "name": "stderr",
     "output_type": "stream",
     "text": [
      "Embedding: 100%|\u001b[32m██████████\u001b[0m| 23/23 [18:14<00:00, 47.61s/it]\n"
     ]
    },
    {
     "data": {
      "text/plain": [
       "229803"
      ]
     },
     "execution_count": 18,
     "metadata": {},
     "output_type": "execute_result"
    }
   ],
   "source": [
    "batch_size = 10000\n",
    "\n",
    "fren_embedding = []\n",
    "for i in tqdm(range(0, len(fren_token), batch_size), \"Embedding\", colour= \"green\"):\n",
    "    batch_token = fren_token[i : i+batch_size]\n",
    "    fren_embedding.extend(text_embedding(batch_token, fren_avg_len))\n",
    "\n",
    "len(fren_embedding)"
   ]
  },
  {
   "cell_type": "code",
   "execution_count": 46,
   "id": "3d532e4e",
   "metadata": {},
   "outputs": [
    {
     "data": {
      "text/plain": [
       "[101, 2175, 102]"
      ]
     },
     "execution_count": 46,
     "metadata": {},
     "output_type": "execute_result"
    }
   ],
   "source": [
    "eng_token[0]"
   ]
  },
  {
   "cell_type": "code",
   "execution_count": 40,
   "id": "4ba1f732",
   "metadata": {},
   "outputs": [
    {
     "data": {
      "text/plain": [
       "[101, 12436, 102]"
      ]
     },
     "execution_count": 40,
     "metadata": {},
     "output_type": "execute_result"
    }
   ],
   "source": [
    "fren_token[0]"
   ]
  },
  {
   "cell_type": "code",
   "execution_count": 49,
   "id": "c3cf6f44",
   "metadata": {},
   "outputs": [],
   "source": [
    "vocab = len(tokenizer.vocab)"
   ]
  },
  {
   "cell_type": "code",
   "execution_count": 94,
   "id": "a14e1b50",
   "metadata": {},
   "outputs": [
    {
     "name": "stdout",
     "output_type": "stream",
     "text": [
      "[unused250] slogan collecting\n"
     ]
    }
   ],
   "source": [
    "device = torch. device(\"cuda\" if torch.cuda.is_available() else \"cpu\")\n",
    "x = torch.tensor([eng_token[0]]).to(device)\n",
    "trg = torch.tensor([fren_token[0]]).to(device)\n",
    "src_pad_idx = 0\n",
    "trg_pad_idx = 0\n",
    "src_vocab_size = vocab\n",
    "trg_vocab_size = vocab\n",
    "model = ct.Transformer(src_vocab_size, trg_vocab_size, src_pad_idx, trg_pad_idx).to(device)\n",
    "out = model(x, trg)\n",
    "print(tokenizer.decode(torch.argmax(out, dim= -1)[0]))\n",
    "\n",
    "\n"
   ]
  },
  {
   "cell_type": "code",
   "execution_count": 91,
   "id": "7dfcb42c",
   "metadata": {},
   "outputs": [
    {
     "data": {
      "text/plain": [
       "'[CLS] va [SEP]'"
      ]
     },
     "execution_count": 91,
     "metadata": {},
     "output_type": "execute_result"
    }
   ],
   "source": [
    "tokenizer.decode([101, 12436, 102])"
   ]
  },
  {
   "cell_type": "code",
   "execution_count": null,
   "id": "5d39298a",
   "metadata": {},
   "outputs": [],
   "source": []
  }
 ],
 "metadata": {
  "kernelspec": {
   "display_name": "Python 3 (ipykernel)",
   "language": "python",
   "name": "python3"
  },
  "language_info": {
   "codemirror_mode": {
    "name": "ipython",
    "version": 3
   },
   "file_extension": ".py",
   "mimetype": "text/x-python",
   "name": "python",
   "nbconvert_exporter": "python",
   "pygments_lexer": "ipython3",
   "version": "3.10.13"
  }
 },
 "nbformat": 4,
 "nbformat_minor": 5
}
