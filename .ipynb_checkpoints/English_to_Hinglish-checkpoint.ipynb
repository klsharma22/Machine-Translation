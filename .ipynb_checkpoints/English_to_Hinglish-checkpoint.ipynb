{
 "cells": [
  {
   "cell_type": "code",
   "execution_count": 1,
   "id": "ada7dc10-a1e7-4331-9686-791f3a981a23",
   "metadata": {},
   "outputs": [],
   "source": [
    "import pandas as pd\n",
    "import re\n",
    "from transformers import BertTokenizer, TFBertModel"
   ]
  },
  {
   "cell_type": "code",
   "execution_count": 2,
   "id": "eb537353-cca1-459b-a820-3a7a7dfda07a",
   "metadata": {},
   "outputs": [],
   "source": [
    "mtdata_train = pd.read_table('archive/Human Annotated Data/train.tsv')\n",
    "mtdata_test = pd.read_table('archive/Human Annotated Data/test.tsv')\n",
    "mtdata_val = pd.read_table('archive/Human Annotated Data/validation.tsv')"
   ]
  },
  {
   "cell_type": "code",
   "execution_count": 3,
   "id": "d3f43754-c218-414a-a34d-439e65c2839c",
   "metadata": {},
   "outputs": [
    {
     "data": {
      "text/html": [
       "<div>\n",
       "<style scoped>\n",
       "    .dataframe tbody tr th:only-of-type {\n",
       "        vertical-align: middle;\n",
       "    }\n",
       "\n",
       "    .dataframe tbody tr th {\n",
       "        vertical-align: top;\n",
       "    }\n",
       "\n",
       "    .dataframe thead th {\n",
       "        text-align: right;\n",
       "    }\n",
       "</style>\n",
       "<table border=\"1\" class=\"dataframe\">\n",
       "  <thead>\n",
       "    <tr style=\"text-align: right;\">\n",
       "      <th></th>\n",
       "      <th>en_query</th>\n",
       "      <th>cs_query</th>\n",
       "      <th>en_parse</th>\n",
       "      <th>cs_parse</th>\n",
       "      <th>domain</th>\n",
       "    </tr>\n",
       "  </thead>\n",
       "  <tbody>\n",
       "    <tr>\n",
       "      <th>0</th>\n",
       "      <td>Pause my timer .</td>\n",
       "      <td>mere timer ko roko</td>\n",
       "      <td>[IN:PAUSE_TIMER Pause my [SL:METHOD_TIMER time...</td>\n",
       "      <td>[IN:PAUSE_TIMER mere [SL:METHOD_TIMER timer ] ...</td>\n",
       "      <td>timer</td>\n",
       "    </tr>\n",
       "    <tr>\n",
       "      <th>1</th>\n",
       "      <td>Is it raining in Hawaii ?</td>\n",
       "      <td>Kya hawaii me raining ho rahi hai?</td>\n",
       "      <td>[IN:GET_WEATHER Is it [SL:WEATHER_ATTRIBUTE ra...</td>\n",
       "      <td>[IN:GET_WEATHER Kya [SL:LOCATION hawaii ] me [...</td>\n",
       "      <td>weather</td>\n",
       "    </tr>\n",
       "    <tr>\n",
       "      <th>2</th>\n",
       "      <td>Set a reminder for me to wake up at 630 am tom...</td>\n",
       "      <td>Mere liye reminder set karo to wake up at 6:30...</td>\n",
       "      <td>[IN:CREATE_REMINDER Set a reminder for [SL:PER...</td>\n",
       "      <td>[IN:CREATE_REMINDER [SL:PERSON_REMINDED Mere ]...</td>\n",
       "      <td>reminder</td>\n",
       "    </tr>\n",
       "    <tr>\n",
       "      <th>3</th>\n",
       "      <td>Please pause timer</td>\n",
       "      <td>Please timer ko rokey</td>\n",
       "      <td>[IN:PAUSE_TIMER Please pause [SL:METHOD_TIMER ...</td>\n",
       "      <td>[IN:PAUSE_TIMER Please [SL:METHOD_TIMER timer ...</td>\n",
       "      <td>timer</td>\n",
       "    </tr>\n",
       "    <tr>\n",
       "      <th>4</th>\n",
       "      <td>play the first album for killswitch engaged</td>\n",
       "      <td>Killswitch engaged ka pehla album play kariye</td>\n",
       "      <td>[IN:PLAY_MUSIC play the first [SL:MUSIC_TYPE a...</td>\n",
       "      <td>[IN:PLAY_MUSIC Killswitch engaged ka pehla [SL...</td>\n",
       "      <td>music</td>\n",
       "    </tr>\n",
       "  </tbody>\n",
       "</table>\n",
       "</div>"
      ],
      "text/plain": [
       "                                            en_query  \\\n",
       "0                                   Pause my timer .   \n",
       "1                          Is it raining in Hawaii ?   \n",
       "2  Set a reminder for me to wake up at 630 am tom...   \n",
       "3                                 Please pause timer   \n",
       "4        play the first album for killswitch engaged   \n",
       "\n",
       "                                            cs_query  \\\n",
       "0                                 mere timer ko roko   \n",
       "1                 Kya hawaii me raining ho rahi hai?   \n",
       "2  Mere liye reminder set karo to wake up at 6:30...   \n",
       "3                              Please timer ko rokey   \n",
       "4      Killswitch engaged ka pehla album play kariye   \n",
       "\n",
       "                                            en_parse  \\\n",
       "0  [IN:PAUSE_TIMER Pause my [SL:METHOD_TIMER time...   \n",
       "1  [IN:GET_WEATHER Is it [SL:WEATHER_ATTRIBUTE ra...   \n",
       "2  [IN:CREATE_REMINDER Set a reminder for [SL:PER...   \n",
       "3  [IN:PAUSE_TIMER Please pause [SL:METHOD_TIMER ...   \n",
       "4  [IN:PLAY_MUSIC play the first [SL:MUSIC_TYPE a...   \n",
       "\n",
       "                                            cs_parse    domain  \n",
       "0  [IN:PAUSE_TIMER mere [SL:METHOD_TIMER timer ] ...     timer  \n",
       "1  [IN:GET_WEATHER Kya [SL:LOCATION hawaii ] me [...   weather  \n",
       "2  [IN:CREATE_REMINDER [SL:PERSON_REMINDED Mere ]...  reminder  \n",
       "3  [IN:PAUSE_TIMER Please [SL:METHOD_TIMER timer ...     timer  \n",
       "4  [IN:PLAY_MUSIC Killswitch engaged ka pehla [SL...     music  "
      ]
     },
     "execution_count": 3,
     "metadata": {},
     "output_type": "execute_result"
    }
   ],
   "source": [
    "mtdata_test.head()"
   ]
  },
  {
   "cell_type": "code",
   "execution_count": 4,
   "id": "de383d1f-c3ce-4f78-b632-7490ecad2eb0",
   "metadata": {},
   "outputs": [],
   "source": [
    "def remove_col(df: pd.DataFrame):\n",
    "    df.drop(columns=['en_parse', 'cs_parse', 'domain'], inplace= True)"
   ]
  },
  {
   "cell_type": "code",
   "execution_count": 5,
   "id": "52833f9e-c411-4e48-bb36-067fe1333ce7",
   "metadata": {},
   "outputs": [
    {
     "data": {
      "text/html": [
       "<div>\n",
       "<style scoped>\n",
       "    .dataframe tbody tr th:only-of-type {\n",
       "        vertical-align: middle;\n",
       "    }\n",
       "\n",
       "    .dataframe tbody tr th {\n",
       "        vertical-align: top;\n",
       "    }\n",
       "\n",
       "    .dataframe thead th {\n",
       "        text-align: right;\n",
       "    }\n",
       "</style>\n",
       "<table border=\"1\" class=\"dataframe\">\n",
       "  <thead>\n",
       "    <tr style=\"text-align: right;\">\n",
       "      <th></th>\n",
       "      <th>en_query</th>\n",
       "      <th>cs_query</th>\n",
       "    </tr>\n",
       "  </thead>\n",
       "  <tbody>\n",
       "    <tr>\n",
       "      <th>0</th>\n",
       "      <td>Pause my timer .</td>\n",
       "      <td>mere timer ko roko</td>\n",
       "    </tr>\n",
       "    <tr>\n",
       "      <th>1</th>\n",
       "      <td>Is it raining in Hawaii ?</td>\n",
       "      <td>Kya hawaii me raining ho rahi hai?</td>\n",
       "    </tr>\n",
       "    <tr>\n",
       "      <th>2</th>\n",
       "      <td>Set a reminder for me to wake up at 630 am tom...</td>\n",
       "      <td>Mere liye reminder set karo to wake up at 6:30...</td>\n",
       "    </tr>\n",
       "    <tr>\n",
       "      <th>3</th>\n",
       "      <td>Please pause timer</td>\n",
       "      <td>Please timer ko rokey</td>\n",
       "    </tr>\n",
       "    <tr>\n",
       "      <th>4</th>\n",
       "      <td>play the first album for killswitch engaged</td>\n",
       "      <td>Killswitch engaged ka pehla album play kariye</td>\n",
       "    </tr>\n",
       "  </tbody>\n",
       "</table>\n",
       "</div>"
      ],
      "text/plain": [
       "                                            en_query  \\\n",
       "0                                   Pause my timer .   \n",
       "1                          Is it raining in Hawaii ?   \n",
       "2  Set a reminder for me to wake up at 630 am tom...   \n",
       "3                                 Please pause timer   \n",
       "4        play the first album for killswitch engaged   \n",
       "\n",
       "                                            cs_query  \n",
       "0                                 mere timer ko roko  \n",
       "1                 Kya hawaii me raining ho rahi hai?  \n",
       "2  Mere liye reminder set karo to wake up at 6:30...  \n",
       "3                              Please timer ko rokey  \n",
       "4      Killswitch engaged ka pehla album play kariye  "
      ]
     },
     "execution_count": 5,
     "metadata": {},
     "output_type": "execute_result"
    }
   ],
   "source": [
    "remove_col(mtdata_train)\n",
    "remove_col(mtdata_val)\n",
    "remove_col(mtdata_test)\n",
    "\n",
    "mtdata_test.head()"
   ]
  },
  {
   "cell_type": "code",
   "execution_count": 6,
   "id": "c74b0bf8-f8aa-4dbe-b4da-1cb7d074acef",
   "metadata": {},
   "outputs": [
    {
     "name": "stdout",
     "output_type": "stream",
     "text": [
      "Number of null values in training data: en_query    0\n",
      "cs_query    0\n",
      "dtype: int64\n",
      "Number of null values in validation data: en_query    0\n",
      "cs_query    0\n",
      "dtype: int64\n",
      "Number of null values in training data: en_query    0\n",
      "cs_query    0\n",
      "dtype: int64\n"
     ]
    }
   ],
   "source": [
    "print(f\"Number of null values in training data: {mtdata_train[mtdata_train.isnull() == True].count()}\")\n",
    "print(f\"Number of null values in validation data: {mtdata_val[mtdata_val.isnull() == True].count()}\")\n",
    "print(f\"Number of null values in training data: {mtdata_test[mtdata_test.isnull() == True].count()}\")"
   ]
  },
  {
   "cell_type": "code",
   "execution_count": 7,
   "id": "36c686ff-0b99-4688-9f87-39d232382bee",
   "metadata": {},
   "outputs": [
    {
     "name": "stdout",
     "output_type": "stream",
     "text": [
      "English Corpus length: 2993\n",
      "Hinglish Corpus length: 2993\n"
     ]
    }
   ],
   "source": [
    "en_corpus, he_corpus = [], []\n",
    "\n",
    "for index, rows in mtdata_train.iterrows():\n",
    "    en_corpus.append(rows['en_query'])\n",
    "    he_corpus.append(rows['cs_query'])\n",
    "\n",
    "print(f\"English Corpus length: {len(en_corpus)}\")\n",
    "print(f\"Hinglish Corpus length: {len(he_corpus)}\")"
   ]
  },
  {
   "cell_type": "code",
   "execution_count": 8,
   "id": "b8348140-7545-4e4d-81a2-56ff4d6273a3",
   "metadata": {},
   "outputs": [],
   "source": [
    "def clean(text: str):\n",
    "    #removing punctuations and html tags\n",
    "    text = re.sub(r'[^\\w\\s]', '', text)\n",
    "    text = re.sub(r'<[^>]*>', '', text)\n",
    "\n",
    "    text = text.lower()\n",
    "\n",
    "    #adding eos as null\n",
    "    text += \" \\0\"\n",
    "    return text\n",
    "\n",
    "en_corpus_clean = [clean(text) for text in en_corpus]\n",
    "he_corpus_clean = [clean(text) for text in he_corpus]"
   ]
  },
  {
   "cell_type": "code",
   "execution_count": 9,
   "id": "a1221941-9c58-4204-a157-63526274e399",
   "metadata": {},
   "outputs": [],
   "source": [
    "def tokenize(text):\n",
    "    return text.split()\n",
    "\n",
    "en_corpus_tokenized = [tokenize(text) for text in en_corpus_clean]\n",
    "he_corpus_tokenized = [tokenize(text) for text in he_corpus_clean]"
   ]
  },
  {
   "cell_type": "code",
   "execution_count": 10,
   "id": "b7412eb5-a871-495f-b162-6c81e9e54fde",
   "metadata": {},
   "outputs": [
    {
     "ename": "SyntaxError",
     "evalue": "incomplete input (1706866003.py, line 7)",
     "output_type": "error",
     "traceback": [
      "\u001b[0;36m  Cell \u001b[0;32mIn[10], line 7\u001b[0;36m\u001b[0m\n\u001b[0;31m    vocab = build_vocab(en\u001b[0m\n\u001b[0m                          ^\u001b[0m\n\u001b[0;31mSyntaxError\u001b[0m\u001b[0;31m:\u001b[0m incomplete input\n"
     ]
    }
   ],
   "source": [
    "def build_vocab(text):\n",
    "    vocab = set()\n",
    "    for token in text:\n",
    "        vocab.add(token)\n",
    "    return vocab\n",
    "\n",
    "vocab = build_vocab(en"
   ]
  }
 ],
 "metadata": {
  "kernelspec": {
   "display_name": "Python 3 (ipykernel)",
   "language": "python",
   "name": "python3"
  },
  "language_info": {
   "codemirror_mode": {
    "name": "ipython",
    "version": 3
   },
   "file_extension": ".py",
   "mimetype": "text/x-python",
   "name": "python",
   "nbconvert_exporter": "python",
   "pygments_lexer": "ipython3",
   "version": "3.10.10"
  }
 },
 "nbformat": 4,
 "nbformat_minor": 5
}
