{
 "cells": [
  {
   "cell_type": "code",
<<<<<<< HEAD
   "execution_count": 15,
=======
   "execution_count": 16,
>>>>>>> 4f2c975b2c6bf579a39140a28a7cdd0f271a1546
   "id": "ada7dc10-a1e7-4331-9686-791f3a981a23",
   "metadata": {},
   "outputs": [
    {
     "ename": "RuntimeError",
     "evalue": "Failed to import transformers.models.bert.modeling_tf_bert because of the following error (look up to see its traceback):\ndlopen(/Users/klsharma/mambaforge/lib/python3.10/site-packages/tensorflow-plugins/libmetal_plugin.dylib, 0x0006): Symbol not found: __ZN10tensorflow16TensorShapeProtoC1ERKS0_\n  Referenced from: <C6A8F8FF-CAC2-366C-AE46-E6AD29B2AF1E> /Users/klsharma/mambaforge/lib/python3.10/site-packages/tensorflow-plugins/libmetal_plugin.dylib\n  Expected in:     <C104091C-297A-300E-A02F-509BCA2330E3> /Users/klsharma/mambaforge/lib/python3.10/site-packages/tensorflow/python/_pywrap_tensorflow_internal.so",
     "output_type": "error",
     "traceback": [
      "\u001b[0;31m---------------------------------------------------------------------------\u001b[0m",
      "\u001b[0;31mNotFoundError\u001b[0m                             Traceback (most recent call last)",
      "File \u001b[0;32m~/mambaforge/lib/python3.10/site-packages/transformers/utils/import_utils.py:1345\u001b[0m, in \u001b[0;36m_LazyModule._get_module\u001b[0;34m(self, module_name)\u001b[0m\n\u001b[1;32m   1344\u001b[0m \u001b[38;5;28;01mtry\u001b[39;00m:\n\u001b[0;32m-> 1345\u001b[0m     \u001b[38;5;28;01mreturn\u001b[39;00m \u001b[43mimportlib\u001b[49m\u001b[38;5;241;43m.\u001b[39;49m\u001b[43mimport_module\u001b[49m\u001b[43m(\u001b[49m\u001b[38;5;124;43m\"\u001b[39;49m\u001b[38;5;124;43m.\u001b[39;49m\u001b[38;5;124;43m\"\u001b[39;49m\u001b[43m \u001b[49m\u001b[38;5;241;43m+\u001b[39;49m\u001b[43m \u001b[49m\u001b[43mmodule_name\u001b[49m\u001b[43m,\u001b[49m\u001b[43m \u001b[49m\u001b[38;5;28;43mself\u001b[39;49m\u001b[38;5;241;43m.\u001b[39;49m\u001b[38;5;18;43m__name__\u001b[39;49m\u001b[43m)\u001b[49m\n\u001b[1;32m   1346\u001b[0m \u001b[38;5;28;01mexcept\u001b[39;00m \u001b[38;5;167;01mException\u001b[39;00m \u001b[38;5;28;01mas\u001b[39;00m e:\n",
      "File \u001b[0;32m~/mambaforge/lib/python3.10/importlib/__init__.py:126\u001b[0m, in \u001b[0;36mimport_module\u001b[0;34m(name, package)\u001b[0m\n\u001b[1;32m    125\u001b[0m         level \u001b[38;5;241m+\u001b[39m\u001b[38;5;241m=\u001b[39m \u001b[38;5;241m1\u001b[39m\n\u001b[0;32m--> 126\u001b[0m \u001b[38;5;28;01mreturn\u001b[39;00m \u001b[43m_bootstrap\u001b[49m\u001b[38;5;241;43m.\u001b[39;49m\u001b[43m_gcd_import\u001b[49m\u001b[43m(\u001b[49m\u001b[43mname\u001b[49m\u001b[43m[\u001b[49m\u001b[43mlevel\u001b[49m\u001b[43m:\u001b[49m\u001b[43m]\u001b[49m\u001b[43m,\u001b[49m\u001b[43m \u001b[49m\u001b[43mpackage\u001b[49m\u001b[43m,\u001b[49m\u001b[43m \u001b[49m\u001b[43mlevel\u001b[49m\u001b[43m)\u001b[49m\n",
      "File \u001b[0;32m<frozen importlib._bootstrap>:1050\u001b[0m, in \u001b[0;36m_gcd_import\u001b[0;34m(name, package, level)\u001b[0m\n",
      "File \u001b[0;32m<frozen importlib._bootstrap>:1027\u001b[0m, in \u001b[0;36m_find_and_load\u001b[0;34m(name, import_)\u001b[0m\n",
      "File \u001b[0;32m<frozen importlib._bootstrap>:1006\u001b[0m, in \u001b[0;36m_find_and_load_unlocked\u001b[0;34m(name, import_)\u001b[0m\n",
      "File \u001b[0;32m<frozen importlib._bootstrap>:688\u001b[0m, in \u001b[0;36m_load_unlocked\u001b[0;34m(spec)\u001b[0m\n",
      "File \u001b[0;32m<frozen importlib._bootstrap_external>:883\u001b[0m, in \u001b[0;36mexec_module\u001b[0;34m(self, module)\u001b[0m\n",
      "File \u001b[0;32m<frozen importlib._bootstrap>:241\u001b[0m, in \u001b[0;36m_call_with_frames_removed\u001b[0;34m(f, *args, **kwds)\u001b[0m\n",
      "File \u001b[0;32m~/mambaforge/lib/python3.10/site-packages/transformers/models/bert/modeling_tf_bert.py:27\u001b[0m\n\u001b[1;32m     26\u001b[0m \u001b[38;5;28;01mimport\u001b[39;00m \u001b[38;5;21;01mnumpy\u001b[39;00m \u001b[38;5;28;01mas\u001b[39;00m \u001b[38;5;21;01mnp\u001b[39;00m\n\u001b[0;32m---> 27\u001b[0m \u001b[38;5;28;01mimport\u001b[39;00m \u001b[38;5;21;01mtensorflow\u001b[39;00m \u001b[38;5;28;01mas\u001b[39;00m \u001b[38;5;21;01mtf\u001b[39;00m\n\u001b[1;32m     29\u001b[0m \u001b[38;5;28;01mfrom\u001b[39;00m \u001b[38;5;21;01m.\u001b[39;00m\u001b[38;5;21;01m.\u001b[39;00m\u001b[38;5;21;01m.\u001b[39;00m\u001b[38;5;21;01mactivations_tf\u001b[39;00m \u001b[38;5;28;01mimport\u001b[39;00m get_tf_activation\n",
      "File \u001b[0;32m~/mambaforge/lib/python3.10/site-packages/tensorflow/__init__.py:445\u001b[0m\n\u001b[1;32m    444\u001b[0m \u001b[38;5;28;01mif\u001b[39;00m _os\u001b[38;5;241m.\u001b[39mpath\u001b[38;5;241m.\u001b[39mexists(_plugin_dir):\n\u001b[0;32m--> 445\u001b[0m   \u001b[43m_ll\u001b[49m\u001b[38;5;241;43m.\u001b[39;49m\u001b[43mload_library\u001b[49m\u001b[43m(\u001b[49m\u001b[43m_plugin_dir\u001b[49m\u001b[43m)\u001b[49m\n\u001b[1;32m    446\u001b[0m   \u001b[38;5;66;03m# Load Pluggable Device Library\u001b[39;00m\n",
      "File \u001b[0;32m~/mambaforge/lib/python3.10/site-packages/tensorflow/python/framework/load_library.py:151\u001b[0m, in \u001b[0;36mload_library\u001b[0;34m(library_location)\u001b[0m\n\u001b[1;32m    150\u001b[0m   \u001b[38;5;28;01mfor\u001b[39;00m lib \u001b[38;5;129;01min\u001b[39;00m kernel_libraries:\n\u001b[0;32m--> 151\u001b[0m     \u001b[43mpy_tf\u001b[49m\u001b[38;5;241;43m.\u001b[39;49m\u001b[43mTF_LoadLibrary\u001b[49m\u001b[43m(\u001b[49m\u001b[43mlib\u001b[49m\u001b[43m)\u001b[49m\n\u001b[1;32m    153\u001b[0m \u001b[38;5;28;01melse\u001b[39;00m:\n",
      "\u001b[0;31mNotFoundError\u001b[0m: dlopen(/Users/klsharma/mambaforge/lib/python3.10/site-packages/tensorflow-plugins/libmetal_plugin.dylib, 0x0006): Symbol not found: __ZN10tensorflow16TensorShapeProtoC1ERKS0_\n  Referenced from: <C6A8F8FF-CAC2-366C-AE46-E6AD29B2AF1E> /Users/klsharma/mambaforge/lib/python3.10/site-packages/tensorflow-plugins/libmetal_plugin.dylib\n  Expected in:     <C104091C-297A-300E-A02F-509BCA2330E3> /Users/klsharma/mambaforge/lib/python3.10/site-packages/tensorflow/python/_pywrap_tensorflow_internal.so",
      "\nThe above exception was the direct cause of the following exception:\n",
      "\u001b[0;31mRuntimeError\u001b[0m                              Traceback (most recent call last)",
      "Cell \u001b[0;32mIn[15], line 3\u001b[0m\n\u001b[1;32m      1\u001b[0m \u001b[38;5;28;01mimport\u001b[39;00m \u001b[38;5;21;01mpandas\u001b[39;00m \u001b[38;5;28;01mas\u001b[39;00m \u001b[38;5;21;01mpd\u001b[39;00m\n\u001b[1;32m      2\u001b[0m \u001b[38;5;28;01mimport\u001b[39;00m \u001b[38;5;21;01mre\u001b[39;00m\n\u001b[0;32m----> 3\u001b[0m \u001b[38;5;28;01mfrom\u001b[39;00m \u001b[38;5;21;01mtransformers\u001b[39;00m \u001b[38;5;28;01mimport\u001b[39;00m BertTokenizer, TFBertModel\n",
      "File \u001b[0;32m<frozen importlib._bootstrap>:1075\u001b[0m, in \u001b[0;36m_handle_fromlist\u001b[0;34m(module, fromlist, import_, recursive)\u001b[0m\n",
      "File \u001b[0;32m~/mambaforge/lib/python3.10/site-packages/transformers/utils/import_utils.py:1336\u001b[0m, in \u001b[0;36m_LazyModule.__getattr__\u001b[0;34m(self, name)\u001b[0m\n\u001b[1;32m   1334\u001b[0m \u001b[38;5;28;01melif\u001b[39;00m name \u001b[38;5;129;01min\u001b[39;00m \u001b[38;5;28mself\u001b[39m\u001b[38;5;241m.\u001b[39m_class_to_module\u001b[38;5;241m.\u001b[39mkeys():\n\u001b[1;32m   1335\u001b[0m     module \u001b[38;5;241m=\u001b[39m \u001b[38;5;28mself\u001b[39m\u001b[38;5;241m.\u001b[39m_get_module(\u001b[38;5;28mself\u001b[39m\u001b[38;5;241m.\u001b[39m_class_to_module[name])\n\u001b[0;32m-> 1336\u001b[0m     value \u001b[38;5;241m=\u001b[39m \u001b[38;5;28;43mgetattr\u001b[39;49m\u001b[43m(\u001b[49m\u001b[43mmodule\u001b[49m\u001b[43m,\u001b[49m\u001b[43m \u001b[49m\u001b[43mname\u001b[49m\u001b[43m)\u001b[49m\n\u001b[1;32m   1337\u001b[0m \u001b[38;5;28;01melse\u001b[39;00m:\n\u001b[1;32m   1338\u001b[0m     \u001b[38;5;28;01mraise\u001b[39;00m \u001b[38;5;167;01mAttributeError\u001b[39;00m(\u001b[38;5;124mf\u001b[39m\u001b[38;5;124m\"\u001b[39m\u001b[38;5;124mmodule \u001b[39m\u001b[38;5;132;01m{\u001b[39;00m\u001b[38;5;28mself\u001b[39m\u001b[38;5;241m.\u001b[39m\u001b[38;5;18m__name__\u001b[39m\u001b[38;5;132;01m}\u001b[39;00m\u001b[38;5;124m has no attribute \u001b[39m\u001b[38;5;132;01m{\u001b[39;00mname\u001b[38;5;132;01m}\u001b[39;00m\u001b[38;5;124m\"\u001b[39m)\n",
      "File \u001b[0;32m~/mambaforge/lib/python3.10/site-packages/transformers/utils/import_utils.py:1335\u001b[0m, in \u001b[0;36m_LazyModule.__getattr__\u001b[0;34m(self, name)\u001b[0m\n\u001b[1;32m   1333\u001b[0m     value \u001b[38;5;241m=\u001b[39m \u001b[38;5;28mself\u001b[39m\u001b[38;5;241m.\u001b[39m_get_module(name)\n\u001b[1;32m   1334\u001b[0m \u001b[38;5;28;01melif\u001b[39;00m name \u001b[38;5;129;01min\u001b[39;00m \u001b[38;5;28mself\u001b[39m\u001b[38;5;241m.\u001b[39m_class_to_module\u001b[38;5;241m.\u001b[39mkeys():\n\u001b[0;32m-> 1335\u001b[0m     module \u001b[38;5;241m=\u001b[39m \u001b[38;5;28;43mself\u001b[39;49m\u001b[38;5;241;43m.\u001b[39;49m\u001b[43m_get_module\u001b[49m\u001b[43m(\u001b[49m\u001b[38;5;28;43mself\u001b[39;49m\u001b[38;5;241;43m.\u001b[39;49m\u001b[43m_class_to_module\u001b[49m\u001b[43m[\u001b[49m\u001b[43mname\u001b[49m\u001b[43m]\u001b[49m\u001b[43m)\u001b[49m\n\u001b[1;32m   1336\u001b[0m     value \u001b[38;5;241m=\u001b[39m \u001b[38;5;28mgetattr\u001b[39m(module, name)\n\u001b[1;32m   1337\u001b[0m \u001b[38;5;28;01melse\u001b[39;00m:\n",
      "File \u001b[0;32m~/mambaforge/lib/python3.10/site-packages/transformers/utils/import_utils.py:1347\u001b[0m, in \u001b[0;36m_LazyModule._get_module\u001b[0;34m(self, module_name)\u001b[0m\n\u001b[1;32m   1345\u001b[0m     \u001b[38;5;28;01mreturn\u001b[39;00m importlib\u001b[38;5;241m.\u001b[39mimport_module(\u001b[38;5;124m\"\u001b[39m\u001b[38;5;124m.\u001b[39m\u001b[38;5;124m\"\u001b[39m \u001b[38;5;241m+\u001b[39m module_name, \u001b[38;5;28mself\u001b[39m\u001b[38;5;241m.\u001b[39m\u001b[38;5;18m__name__\u001b[39m)\n\u001b[1;32m   1346\u001b[0m \u001b[38;5;28;01mexcept\u001b[39;00m \u001b[38;5;167;01mException\u001b[39;00m \u001b[38;5;28;01mas\u001b[39;00m e:\n\u001b[0;32m-> 1347\u001b[0m     \u001b[38;5;28;01mraise\u001b[39;00m \u001b[38;5;167;01mRuntimeError\u001b[39;00m(\n\u001b[1;32m   1348\u001b[0m         \u001b[38;5;124mf\u001b[39m\u001b[38;5;124m\"\u001b[39m\u001b[38;5;124mFailed to import \u001b[39m\u001b[38;5;132;01m{\u001b[39;00m\u001b[38;5;28mself\u001b[39m\u001b[38;5;241m.\u001b[39m\u001b[38;5;18m__name__\u001b[39m\u001b[38;5;132;01m}\u001b[39;00m\u001b[38;5;124m.\u001b[39m\u001b[38;5;132;01m{\u001b[39;00mmodule_name\u001b[38;5;132;01m}\u001b[39;00m\u001b[38;5;124m because of the following error (look up to see its\u001b[39m\u001b[38;5;124m\"\u001b[39m\n\u001b[1;32m   1349\u001b[0m         \u001b[38;5;124mf\u001b[39m\u001b[38;5;124m\"\u001b[39m\u001b[38;5;124m traceback):\u001b[39m\u001b[38;5;130;01m\\n\u001b[39;00m\u001b[38;5;132;01m{\u001b[39;00me\u001b[38;5;132;01m}\u001b[39;00m\u001b[38;5;124m\"\u001b[39m\n\u001b[1;32m   1350\u001b[0m     ) \u001b[38;5;28;01mfrom\u001b[39;00m \u001b[38;5;21;01me\u001b[39;00m\n",
      "\u001b[0;31mRuntimeError\u001b[0m: Failed to import transformers.models.bert.modeling_tf_bert because of the following error (look up to see its traceback):\ndlopen(/Users/klsharma/mambaforge/lib/python3.10/site-packages/tensorflow-plugins/libmetal_plugin.dylib, 0x0006): Symbol not found: __ZN10tensorflow16TensorShapeProtoC1ERKS0_\n  Referenced from: <C6A8F8FF-CAC2-366C-AE46-E6AD29B2AF1E> /Users/klsharma/mambaforge/lib/python3.10/site-packages/tensorflow-plugins/libmetal_plugin.dylib\n  Expected in:     <C104091C-297A-300E-A02F-509BCA2330E3> /Users/klsharma/mambaforge/lib/python3.10/site-packages/tensorflow/python/_pywrap_tensorflow_internal.so"
     ]
    }
   ],
   "source": [
    "import pandas as pd\n",
    "import re\n",
<<<<<<< HEAD
    "from transformers import BertTokenizer, TFBertModel"
=======
    "import nltk\n",
    "import sentencepiece"
>>>>>>> 4f2c975b2c6bf579a39140a28a7cdd0f271a1546
   ]
  },
  {
   "cell_type": "code",
   "execution_count": 2,
   "id": "eb537353-cca1-459b-a820-3a7a7dfda07a",
   "metadata": {},
   "outputs": [],
   "source": [
    "mtdata_train = pd.read_table('archive/Human Annotated Data/train.tsv')\n",
    "mtdata_test = pd.read_table('archive/Human Annotated Data/test.tsv')\n",
    "mtdata_val = pd.read_table('archive/Human Annotated Data/validation.tsv')"
   ]
  },
  {
   "cell_type": "code",
   "execution_count": 3,
   "id": "d3f43754-c218-414a-a34d-439e65c2839c",
   "metadata": {},
   "outputs": [
    {
     "data": {
      "text/html": [
       "<div>\n",
       "<style scoped>\n",
       "    .dataframe tbody tr th:only-of-type {\n",
       "        vertical-align: middle;\n",
       "    }\n",
       "\n",
       "    .dataframe tbody tr th {\n",
       "        vertical-align: top;\n",
       "    }\n",
       "\n",
       "    .dataframe thead th {\n",
       "        text-align: right;\n",
       "    }\n",
       "</style>\n",
       "<table border=\"1\" class=\"dataframe\">\n",
       "  <thead>\n",
       "    <tr style=\"text-align: right;\">\n",
       "      <th></th>\n",
       "      <th>en_query</th>\n",
       "      <th>cs_query</th>\n",
       "      <th>en_parse</th>\n",
       "      <th>cs_parse</th>\n",
       "      <th>domain</th>\n",
       "    </tr>\n",
       "  </thead>\n",
       "  <tbody>\n",
       "    <tr>\n",
       "      <th>0</th>\n",
       "      <td>Pause my timer .</td>\n",
       "      <td>mere timer ko roko</td>\n",
       "      <td>[IN:PAUSE_TIMER Pause my [SL:METHOD_TIMER time...</td>\n",
       "      <td>[IN:PAUSE_TIMER mere [SL:METHOD_TIMER timer ] ...</td>\n",
       "      <td>timer</td>\n",
       "    </tr>\n",
       "    <tr>\n",
       "      <th>1</th>\n",
       "      <td>Is it raining in Hawaii ?</td>\n",
       "      <td>Kya hawaii me raining ho rahi hai?</td>\n",
       "      <td>[IN:GET_WEATHER Is it [SL:WEATHER_ATTRIBUTE ra...</td>\n",
       "      <td>[IN:GET_WEATHER Kya [SL:LOCATION hawaii ] me [...</td>\n",
       "      <td>weather</td>\n",
       "    </tr>\n",
       "    <tr>\n",
       "      <th>2</th>\n",
       "      <td>Set a reminder for me to wake up at 630 am tom...</td>\n",
       "      <td>Mere liye reminder set karo to wake up at 6:30...</td>\n",
       "      <td>[IN:CREATE_REMINDER Set a reminder for [SL:PER...</td>\n",
       "      <td>[IN:CREATE_REMINDER [SL:PERSON_REMINDED Mere ]...</td>\n",
       "      <td>reminder</td>\n",
       "    </tr>\n",
       "    <tr>\n",
       "      <th>3</th>\n",
       "      <td>Please pause timer</td>\n",
       "      <td>Please timer ko rokey</td>\n",
       "      <td>[IN:PAUSE_TIMER Please pause [SL:METHOD_TIMER ...</td>\n",
       "      <td>[IN:PAUSE_TIMER Please [SL:METHOD_TIMER timer ...</td>\n",
       "      <td>timer</td>\n",
       "    </tr>\n",
       "    <tr>\n",
       "      <th>4</th>\n",
       "      <td>play the first album for killswitch engaged</td>\n",
       "      <td>Killswitch engaged ka pehla album play kariye</td>\n",
       "      <td>[IN:PLAY_MUSIC play the first [SL:MUSIC_TYPE a...</td>\n",
       "      <td>[IN:PLAY_MUSIC Killswitch engaged ka pehla [SL...</td>\n",
       "      <td>music</td>\n",
       "    </tr>\n",
       "  </tbody>\n",
       "</table>\n",
       "</div>"
      ],
      "text/plain": [
       "                                            en_query  \\\n",
       "0                                   Pause my timer .   \n",
       "1                          Is it raining in Hawaii ?   \n",
       "2  Set a reminder for me to wake up at 630 am tom...   \n",
       "3                                 Please pause timer   \n",
       "4        play the first album for killswitch engaged   \n",
       "\n",
       "                                            cs_query  \\\n",
       "0                                 mere timer ko roko   \n",
       "1                 Kya hawaii me raining ho rahi hai?   \n",
       "2  Mere liye reminder set karo to wake up at 6:30...   \n",
       "3                              Please timer ko rokey   \n",
       "4      Killswitch engaged ka pehla album play kariye   \n",
       "\n",
       "                                            en_parse  \\\n",
       "0  [IN:PAUSE_TIMER Pause my [SL:METHOD_TIMER time...   \n",
       "1  [IN:GET_WEATHER Is it [SL:WEATHER_ATTRIBUTE ra...   \n",
       "2  [IN:CREATE_REMINDER Set a reminder for [SL:PER...   \n",
       "3  [IN:PAUSE_TIMER Please pause [SL:METHOD_TIMER ...   \n",
       "4  [IN:PLAY_MUSIC play the first [SL:MUSIC_TYPE a...   \n",
       "\n",
       "                                            cs_parse    domain  \n",
       "0  [IN:PAUSE_TIMER mere [SL:METHOD_TIMER timer ] ...     timer  \n",
       "1  [IN:GET_WEATHER Kya [SL:LOCATION hawaii ] me [...   weather  \n",
       "2  [IN:CREATE_REMINDER [SL:PERSON_REMINDED Mere ]...  reminder  \n",
       "3  [IN:PAUSE_TIMER Please [SL:METHOD_TIMER timer ...     timer  \n",
       "4  [IN:PLAY_MUSIC Killswitch engaged ka pehla [SL...     music  "
      ]
     },
     "execution_count": 3,
     "metadata": {},
     "output_type": "execute_result"
    }
   ],
   "source": [
    "mtdata_test.head()"
   ]
  },
  {
   "cell_type": "code",
   "execution_count": 4,
   "id": "de383d1f-c3ce-4f78-b632-7490ecad2eb0",
   "metadata": {},
   "outputs": [],
   "source": [
    "def remove_col(df: pd.DataFrame):\n",
    "    df.drop(columns=['en_parse', 'cs_parse', 'domain'], inplace= True)"
   ]
  },
  {
   "cell_type": "code",
   "execution_count": 5,
   "id": "52833f9e-c411-4e48-bb36-067fe1333ce7",
   "metadata": {},
   "outputs": [
    {
     "data": {
      "text/html": [
       "<div>\n",
       "<style scoped>\n",
       "    .dataframe tbody tr th:only-of-type {\n",
       "        vertical-align: middle;\n",
       "    }\n",
       "\n",
       "    .dataframe tbody tr th {\n",
       "        vertical-align: top;\n",
       "    }\n",
       "\n",
       "    .dataframe thead th {\n",
       "        text-align: right;\n",
       "    }\n",
       "</style>\n",
       "<table border=\"1\" class=\"dataframe\">\n",
       "  <thead>\n",
       "    <tr style=\"text-align: right;\">\n",
       "      <th></th>\n",
       "      <th>en_query</th>\n",
       "      <th>cs_query</th>\n",
       "    </tr>\n",
       "  </thead>\n",
       "  <tbody>\n",
       "    <tr>\n",
       "      <th>0</th>\n",
       "      <td>Pause my timer .</td>\n",
       "      <td>mere timer ko roko</td>\n",
       "    </tr>\n",
       "    <tr>\n",
       "      <th>1</th>\n",
       "      <td>Is it raining in Hawaii ?</td>\n",
       "      <td>Kya hawaii me raining ho rahi hai?</td>\n",
       "    </tr>\n",
       "    <tr>\n",
       "      <th>2</th>\n",
       "      <td>Set a reminder for me to wake up at 630 am tom...</td>\n",
       "      <td>Mere liye reminder set karo to wake up at 6:30...</td>\n",
       "    </tr>\n",
       "    <tr>\n",
       "      <th>3</th>\n",
       "      <td>Please pause timer</td>\n",
       "      <td>Please timer ko rokey</td>\n",
       "    </tr>\n",
       "    <tr>\n",
       "      <th>4</th>\n",
       "      <td>play the first album for killswitch engaged</td>\n",
       "      <td>Killswitch engaged ka pehla album play kariye</td>\n",
       "    </tr>\n",
       "  </tbody>\n",
       "</table>\n",
       "</div>"
      ],
      "text/plain": [
       "                                            en_query  \\\n",
       "0                                   Pause my timer .   \n",
       "1                          Is it raining in Hawaii ?   \n",
       "2  Set a reminder for me to wake up at 630 am tom...   \n",
       "3                                 Please pause timer   \n",
       "4        play the first album for killswitch engaged   \n",
       "\n",
       "                                            cs_query  \n",
       "0                                 mere timer ko roko  \n",
       "1                 Kya hawaii me raining ho rahi hai?  \n",
       "2  Mere liye reminder set karo to wake up at 6:30...  \n",
       "3                              Please timer ko rokey  \n",
       "4      Killswitch engaged ka pehla album play kariye  "
      ]
     },
     "execution_count": 5,
     "metadata": {},
     "output_type": "execute_result"
    }
   ],
   "source": [
    "remove_col(mtdata_train)\n",
    "remove_col(mtdata_val)\n",
    "remove_col(mtdata_test)\n",
    "\n",
    "mtdata_test.head()"
   ]
  },
  {
   "cell_type": "code",
   "execution_count": 6,
   "id": "c74b0bf8-f8aa-4dbe-b4da-1cb7d074acef",
   "metadata": {},
   "outputs": [
    {
     "name": "stdout",
     "output_type": "stream",
     "text": [
      "Number of null values in training data: en_query    0\n",
      "cs_query    0\n",
      "dtype: int64\n",
      "Number of null values in validation data: en_query    0\n",
      "cs_query    0\n",
      "dtype: int64\n",
      "Number of null values in training data: en_query    0\n",
      "cs_query    0\n",
      "dtype: int64\n"
     ]
    }
   ],
   "source": [
    "print(f\"Number of null values in training data: {mtdata_train[mtdata_train.isnull() == True].count()}\")\n",
    "print(f\"Number of null values in validation data: {mtdata_val[mtdata_val.isnull() == True].count()}\")\n",
    "print(f\"Number of null values in training data: {mtdata_test[mtdata_test.isnull() == True].count()}\")"
   ]
  },
  {
   "cell_type": "code",
   "execution_count": 7,
   "id": "36c686ff-0b99-4688-9f87-39d232382bee",
   "metadata": {},
   "outputs": [
    {
     "name": "stdout",
     "output_type": "stream",
     "text": [
      "English Corpus length: 2993\n",
      "Hinglish Corpus length: 2993\n"
     ]
    }
   ],
   "source": [
    "en_corpus, he_corpus = [], []\n",
    "\n",
    "for index, rows in mtdata_train.iterrows():\n",
    "    en_corpus.append(rows['en_query'])\n",
    "    he_corpus.append(rows['cs_query'])\n",
    "\n",
    "print(f\"English Corpus length: {len(en_corpus)}\")\n",
    "print(f\"Hinglish Corpus length: {len(he_corpus)}\")"
   ]
  },
  {
   "cell_type": "code",
   "execution_count": 8,
   "id": "b8348140-7545-4e4d-81a2-56ff4d6273a3",
   "metadata": {},
   "outputs": [],
   "source": [
    "def clean(text: str):\n",
    "    #removing punctuations and html tags\n",
    "    text = re.sub(r'[^\\w\\s]', '', text)\n",
    "    text = re.sub(r'<[^>]*>', '', text)\n",
    "\n",
    "    text = text.lower()\n",
    "\n",
    "    #adding eos as null\n",
    "    text += \" \\0\"\n",
    "    return text\n",
    "\n",
    "en_corpus_clean = [clean(text) for text in en_corpus]\n",
    "he_corpus_clean = [clean(text) for text in he_corpus]"
   ]
  },
  {
   "cell_type": "code",
   "execution_count": 9,
   "id": "a1221941-9c58-4204-a157-63526274e399",
   "metadata": {},
   "outputs": [],
   "source": [
    "def tokenize(text):\n",
    "    return text.split()\n",
    "\n",
    "en_corpus_tokenized = [tokenize(text) for text in en_corpus_clean]\n",
    "he_corpus_tokenized = [tokenize(text) for text in he_corpus_clean]"
   ]
  },
  {
   "cell_type": "code",
<<<<<<< HEAD
   "execution_count": 10,
   "id": "b7412eb5-a871-495f-b162-6c81e9e54fde",
   "metadata": {},
   "outputs": [
    {
     "ename": "SyntaxError",
     "evalue": "incomplete input (1706866003.py, line 7)",
     "output_type": "error",
     "traceback": [
      "\u001b[0;36m  Cell \u001b[0;32mIn[10], line 7\u001b[0;36m\u001b[0m\n\u001b[0;31m    vocab = build_vocab(en\u001b[0m\n\u001b[0m                          ^\u001b[0m\n\u001b[0;31mSyntaxError\u001b[0m\u001b[0;31m:\u001b[0m incomplete input\n"
     ]
    }
   ],
   "source": [
    "def build_vocab(text):\n",
    "    vocab = set()\n",
    "    for token in text:\n",
    "        vocab.add(token)\n",
    "    return vocab\n",
    "\n",
    "vocab = build_vocab(en"
   ]
=======
   "execution_count": 12,
   "id": "bb9d1063-cd90-4c18-a996-a6194308657b",
   "metadata": {},
   "outputs": [],
   "source": [
    "def build_vocab(corpus):\n",
    "    vocab = set()\n",
    "    for text in corpus:\n",
    "        for token in text:\n",
    "            if token not in vocab:\n",
    "                vocab.add(token)\n",
    "\n",
    "    return vocab\n",
    "\n",
    "vocab = build_vocab(en_corpus_tokenized + he_corpus_tokenized)"
   ]
  },
  {
   "cell_type": "code",
   "execution_count": 17,
   "id": "818faa81-772b-4e6b-84e6-2db4ac4621ba",
   "metadata": {},
   "outputs": [
    {
     "ename": "AttributeError",
     "evalue": "'SentencePieceProcessor' object has no attribute 'Train'",
     "output_type": "error",
     "traceback": [
      "\u001b[0;31m---------------------------------------------------------------------------\u001b[0m",
      "\u001b[0;31mAttributeError\u001b[0m                            Traceback (most recent call last)",
      "Cell \u001b[0;32mIn[17], line 2\u001b[0m\n\u001b[1;32m      1\u001b[0m spm \u001b[38;5;241m=\u001b[39m sentencepiece\u001b[38;5;241m.\u001b[39mSentencePieceProcessor()\n\u001b[0;32m----> 2\u001b[0m \u001b[43mspm\u001b[49m\u001b[38;5;241;43m.\u001b[39;49m\u001b[43mTrain\u001b[49m(vocab)\n",
      "\u001b[0;31mAttributeError\u001b[0m: 'SentencePieceProcessor' object has no attribute 'Train'"
     ]
    }
   ],
   "source": []
>>>>>>> 4f2c975b2c6bf579a39140a28a7cdd0f271a1546
  }
 ],
 "metadata": {
  "kernelspec": {
   "display_name": "Python 3 (ipykernel)",
   "language": "python",
   "name": "python3"
  },
  "language_info": {
   "codemirror_mode": {
    "name": "ipython",
    "version": 3
   },
   "file_extension": ".py",
   "mimetype": "text/x-python",
   "name": "python",
   "nbconvert_exporter": "python",
   "pygments_lexer": "ipython3",
   "version": "3.10.10"
  }
 },
 "nbformat": 4,
 "nbformat_minor": 5
}
